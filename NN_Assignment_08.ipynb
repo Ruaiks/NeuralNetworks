{
 "cells": [
  {
   "cell_type": "markdown",
   "metadata": {},
   "source": [
    "# Chapter 8\n",
    "## Hopfield networks\n",
    "\n",
    "    Hand-in bug-free (try \"Kernel\" > \"Restart & Run All\") and including all (textual as well as figural) output via Blackboard before the deadline (see Blackboard).\n",
    "\n",
    "Learning goals:\n",
    "1. Get familiar with energy functions and with updating Hopfield networks by hand\n",
    "1. Implement a Hopfield network that fulfills a constraint\n",
    "1. Implement, train and test a Hopfield network on images"
   ]
  },
  {
   "cell_type": "code",
   "execution_count": 2,
   "metadata": {
    "collapsed": true
   },
   "outputs": [],
   "source": [
    "%matplotlib inline\n",
    "import matplotlib.pyplot as plt\n",
    "import matplotlib.image as mpimg\n",
    "import numpy as np\n",
    "import urllib2\n",
    "import scipy.misc as sp\n",
    "import skimage as ski"
   ]
  },
  {
   "cell_type": "markdown",
   "metadata": {},
   "source": [
    "### Exercise 1: Flip-flop  (2 points)\n",
    "Consider a Hopfield network consisting of two variables $x_1$ and $x_2$ with thresholds $\\theta_1 = 0.5$ and $\\theta_2 = 0.5$, and a weight $w_{ij} = -1$. This network implements a so-called flip-flop. \n",
    "1. What is the energy function of this network? *(Write down the standard form of $E(\\mathbf{x})$, insert the values and simplify it.)*\n",
    "1. What are the possible energy levels of this network? *(Given the possible state combinations for $x_1$ and $x_2$ in a Hopfield network, which values can $E(\\mathbf{x})$ have?)*\n",
    "1. What are the stable states of this network?"
   ]
  },
  {
   "cell_type": "markdown",
   "metadata": {},
   "source": [
    "### Solution 1\n",
    "1. \n",
    "$E(x) = - \\frac{1}{2} * \\sum\\limits_{i,j} w_{ij} * x_i * x_j - \\sum\\limits_{i}\\theta_i * x_i\\\\\n",
    "= - \\frac{1}{2} * (0 * x_1 * x_1 + -1 * x_1 * x_2 + -1 * x_2 * x_1 + 0 * x_2 * x_2) - 0.5 * x_1 + 0.5 * x_2\\\\\n",
    "= x_1x_2  - \\frac{1}{2}x_1 -\\frac{1}{2}x_2$     \n",
    "\n",
    "1. \n",
    "$E(x_1 = 0, x_2 = 0) = 0\\\\\n",
    "E(x_1 = 1, x_2 = 0) = -\\frac{1}{2}\\\\\n",
    "E(x_1 = 0, x_2 = 1) = -\\frac{1}{2}\\\\\n",
    "E(x_1 = 1, x_2 = 1) = 0\\\\\n",
    "$\n",
    "\n",
    "1. Stable states are the states with a local minimum, so that would be:\n",
    "$E(x_1 = 0, x_2 = 1)$\n",
    "and\n",
    "$E(x_1 = 1, x_2 = 0)$"
   ]
  },
  {
   "cell_type": "markdown",
   "metadata": {},
   "source": [
    "### Exercise 2: Hopfield net\n",
    "Consider a Hopfield network with weights\n",
    "\\begin{equation}\n",
    "\\mathbf{W} =\n",
    "\\left[\n",
    "\\begin{array}{llll}\n",
    "0 & -0.2 & -0.4 & 0\\\\\n",
    "-0.2 & 0 & 0.5 & 0.3\\\\\n",
    "-0.4 & 0.5 & 0 & 0.8\\\\\n",
    "0 & 0.3 & 0.8 & 0\n",
    "\\end{array}\n",
    "\\right]\n",
    "\\end{equation}\n",
    "and biases\n",
    "$\\boldsymbol{\\theta} = (-0.5,-0.3,-0.8,0.2)$.\n",
    "1. What is the state of the Hopfield network after one sequential update of the first, second, third and fourth node when we start at the initial node state $\\mathbf{x} = (0,1,1,1)$? \n",
    "1. What do you conclude from your observation?"
   ]
  },
  {
   "cell_type": "markdown",
   "metadata": {},
   "source": [
    "### Solution 2  (1 point)\n",
    "1. The state of the Hopfield network after one sequential update is the same as the original state, namely: $\\mathbf{x} = (0,1,1,1)$.\n",
    "\n",
    "1. Therefore, we conclude that this is a stable state of this Hopfield Network."
   ]
  },
  {
   "cell_type": "markdown",
   "metadata": {},
   "source": [
    "### Exercise 3 : A Hopfield network that fulfills a constraint (2 points)\n",
    "\n",
    "In this exercise you will run a Hopfield model that converges to a state that fulfills a constraint. \n",
    "\n",
    "1. Implement a function `optimize(n)` which returns a length `n` vector of node states. The constraint it should solve is that all nodes should be set to `0`, except for a single random node set to `1`.\n",
    "1. Show that your function works for different values of `n`.\n",
    "\n",
    "Start from random node states. Choose and implement the necessary weights and biases manually (i.e. you do not train the Hopfield network here). The resulting vector should be the configuration of the network when it has converged to a stable state. Make sure that your implementation fulfills all requirements for Hopfield networks to converge to stable states."
   ]
  },
  {
   "cell_type": "markdown",
   "metadata": {},
   "source": [
    "### Solution 3"
   ]
  },
  {
   "cell_type": "code",
   "execution_count": 4,
   "metadata": {
    "collapsed": true
   },
   "outputs": [],
   "source": [
    "# The optimization function\n",
    "import random\n",
    "def optimize(n):\n",
    "    states = create_array(n)\n",
    "    for i in range(0,n):\n",
    "        states[i] = update_array(states,i)\n",
    "    return states\n",
    "    \n",
    "\n",
    "def create_array(n):\n",
    "#Create random array of zeroes and ones\n",
    "    states = []\n",
    "    for i in range(0,n):\n",
    "        states.append(random.randint(0,1))\n",
    "    return states\n",
    "        \n",
    "def update_array(states,index):\n",
    "#Sum over the weights\n",
    "    sum = 0\n",
    "    for i in range(0,len(states)):\n",
    "        if(i !=  index):\n",
    "            sum += -2*states[i]\n",
    "#bias = 1\n",
    "    sum += 1\n",
    "    if(sum >= 0):\n",
    "        return 1\n",
    "    return 0\n",
    "    \n",
    "        \n",
    "    \n",
    "\n"
   ]
  },
  {
   "cell_type": "code",
   "execution_count": 5,
   "metadata": {},
   "outputs": [
    {
     "name": "stdout",
     "output_type": "stream",
     "text": [
      "[1]\n",
      "[0, 1]\n",
      "[0, 0, 1]\n",
      "[0, 0, 0, 1]\n",
      "[0, 0, 0, 1, 0]\n",
      "[0, 0, 0, 0, 1, 0]\n",
      "[0, 0, 0, 0, 0, 0, 1]\n",
      "[0, 0, 0, 0, 0, 0, 0, 1]\n",
      "[0, 0, 0, 0, 0, 1, 0, 0, 0]\n"
     ]
    }
   ],
   "source": [
    "# Print solutions\n",
    "for i in range(1,10):\n",
    "    print(optimize(i))\n"
   ]
  },
  {
   "cell_type": "markdown",
   "metadata": {},
   "source": [
    "### Training a Hopfield network on given patterns\n",
    "\n",
    "You will now implement a Hopfield network that learns to reconstruct given images. Here you can *a) ignore the bias term*; and *b) use bipolar nodes*. \n",
    "\n",
    "The next cells load an image, resize it and store it together with a mirrored version of the same image in the variables `x1` and `x2`, which will be stacked in the training data `X`. These are your *input patterns*. "
   ]
  },
  {
   "cell_type": "code",
   "execution_count": 6,
   "metadata": {},
   "outputs": [
    {
     "name": "stdout",
     "output_type": "stream",
     "text": [
      "(76L, 102L)\n",
      "(76L, 102L)\n"
     ]
    }
   ],
   "source": [
    "# The source image\n",
    "f = urllib2.urlopen(\"https://homepages.cae.wisc.edu/~ece533/images/watch.png\")\n",
    "# Read the image\n",
    "x1 = mpimg.imread(f)\n",
    "\n",
    "# Make binary\n",
    "x1 = np.mean(sp.imresize(x1,10),2)\n",
    "x1[x1 < np.mean(x1.flatten())] = -1 # Black\n",
    "x1[x1 >= np.mean(x1.flatten())] = 1 # White\n",
    "x1.astype(\"int32\")\n",
    "\n",
    "# Make duplicate but mirrored second image\n",
    "x2 = np.fliplr(x1)\n",
    "\n",
    "# Flatten images\n",
    "sz = x1.shape\n",
    "X = np.stack((x1.flatten(), x2.flatten()), axis=1)\n",
    "print(x1.shape)\n",
    "print(x2.shape)"
   ]
  },
  {
   "cell_type": "code",
   "execution_count": 7,
   "metadata": {},
   "outputs": [
    {
     "data": {
      "text/plain": [
       "<matplotlib.text.Text at 0xbb999b0>"
      ]
     },
     "execution_count": 7,
     "metadata": {},
     "output_type": "execute_result"
    },
    {
     "data": {
      "image/png": "[encoded data removed]",
      "text/plain": [
       "<matplotlib.figure.Figure at 0xb89e7f0>"
      ]
     },
     "metadata": {},
     "output_type": "display_data"
    }
   ],
   "source": [
    "fig, ax = plt.subplots(1, 2, figsize=(10, 5))\n",
    "\n",
    "ax[0].imshow(X[:, 0].reshape(sz), cmap=\"gray\")\n",
    "ax[0].set_xticks([], [])\n",
    "ax[0].set_yticks([], [])\n",
    "ax[0].set_title(\"x1\")\n",
    "\n",
    "ax[1].imshow(X[:, 1].reshape(sz), cmap=\"gray\")\n",
    "ax[1].set_xticks([], [])\n",
    "ax[1].set_yticks([], [])\n",
    "ax[1].set_title(\"x2\")"
   ]
  },
  {
   "cell_type": "markdown",
   "metadata": {},
   "source": [
    "### Exercise 4: Hopfield training  (1 point)\n",
    "Write a function `hopfield_train(X)` which takes the $n$ *input patterns* `X` (shape $(m,n)$) as argument and returns the weight matrix `w` for a trained Hopfield network with $m$ nodes. Initialize the weights with zeros and then implement the learning rule for the weights. Again, make sure that your network fulfills the requirements for Hopfield network convergence. \n",
    "\n",
    "Note that you can write the weight update term per *input pattern* in a single line using the dot product. "
   ]
  },
  {
   "cell_type": "markdown",
   "metadata": {},
   "source": [
    "### Solution 4"
   ]
  },
  {
   "cell_type": "code",
   "execution_count": 31,
   "metadata": {
    "collapsed": true
   },
   "outputs": [],
   "source": [
    "# Hopfield training\n",
    "def hopfield_train(X):\n",
    "    m, n = X.shape\n",
    "    # Initialize weights\n",
    "    w = np.zeros((m,m))\n",
    "    # Hebbian learning\n",
    "    for i in range(0,n):\n",
    "#         for i in range(0,m):\n",
    "#             for h in range(0,m):\n",
    "#                 w[i,h] += X[i,j]*X[h,j]\n",
    "        w += np.outer(X[:,i],X[:,i])\n",
    "    # Avoid self-connections (diagonal)\n",
    "    for i in range(m):\n",
    "        w[i,i] = 0\n",
    "    return w\n",
    "# X = np.matrix([[-1,1],[1,-1], [1,-1]])\n",
    "# w = hopfield_train(X)\n",
    "# print(w)"
   ]
  },
  {
   "cell_type": "markdown",
   "metadata": {},
   "source": [
    "### Exercise 5  (1 points)\n",
    "Write a function `hopfield_test(X, w, n_epochs)` which takes the $n$ initial states `Y` (shape $(m,n)$) and the learned weights `w` and updates all units in random order for `n_epochs` times (i.e., which \"runs\" your trained Hopfield network for `n_epochs` rounds). The return value should be the updated states `Y` of the Hopfield network. Make sure that your iteration fulfills the requirements for Hopfield network convergence."
   ]
  },
  {
   "cell_type": "markdown",
   "metadata": {},
   "source": [
    "### Solution 5"
   ]
  },
  {
   "cell_type": "code",
   "execution_count": 32,
   "metadata": {
    "collapsed": true
   },
   "outputs": [],
   "source": [
    "# Hopfield testing\n",
    "def hopfield_test(X, w, n_epochs=10):\n",
    "#    m,n = X.shape\n",
    "#    Y = np.zeros((m,n))\n",
    "    # Loop over epochs\n",
    "#    for i in range(0,n_epochs):\n",
    "        # Loop over examples\n",
    "#        for j in range(0,n):\n",
    "            # Loop over nodes\n",
    "#                for k in range(0,m):\n",
    "#                 Update node(bias = 0)\n",
    "#                    for l in range(0,m):\n",
    "#                        Y[k,j] += X[k,j]*w[l,k]\n",
    "            \n",
    "#                    if(Y[k,j] >= 0):\n",
    "#                        Y[k] = 1\n",
    "#                    else:\n",
    "#                        Y[k] = -1\n",
    "    Y = np.dot(w,Xhat)\n",
    "    return Y\n",
    "# X = np.matrix([[-1,1],[1,1], [-1,-1]])\n",
    "# w = hopfield_train(X)\n",
    "# print(hopfield_test(X,w))"
   ]
  },
  {
   "cell_type": "markdown",
   "metadata": {},
   "source": [
    "### Exercise 6  (1 points)\n",
    "Train your hopfield network on the two *input patterns* in `X` and save the weights. "
   ]
  },
  {
   "cell_type": "markdown",
   "metadata": {},
   "source": [
    "### Solution 6"
   ]
  },
  {
   "cell_type": "code",
   "execution_count": 33,
   "metadata": {},
   "outputs": [
    {
     "name": "stdout",
     "output_type": "stream",
     "text": [
      "[[ 0.  2.  2. ...,  0.  0.  0.]\n",
      " [ 2.  0.  2. ...,  0.  0.  0.]\n",
      " [ 2.  2.  0. ...,  0.  0.  0.]\n",
      " ..., \n",
      " [ 0.  0.  0. ...,  0.  2.  2.]\n",
      " [ 0.  0.  0. ...,  2.  0.  2.]\n",
      " [ 0.  0.  0. ...,  2.  2.  0.]]\n"
     ]
    }
   ],
   "source": [
    "# Run hopfield training\n",
    "w = hopfield_train(X)\n",
    "print(w)"
   ]
  },
  {
   "cell_type": "markdown",
   "metadata": {},
   "source": [
    "### Exercise 7 (2 points)\n",
    "\n",
    "Test whether your trained Hopfield net can reconstruct the original images when starting from different degrees of corruption (which means randomly changing the pattern's node states). Make use of the function `corrupt_images` for this. \n",
    "\n",
    "1. Choose 4 degrees of corruption (between min: 10%, max: 100%) you want to test. Corrupt the original input images in `X` accordingly.  \n",
    "1. Run your trained Hopfield network with the corrupted images as input. It may not need to run for long time. \n",
    "1. For both patterns show the original, the corrupted and the reconstructed images next to each other. \n",
    "1. For each of the degrees of corruption, comment on what you see. "
   ]
  },
  {
   "cell_type": "code",
   "execution_count": 34,
   "metadata": {
    "collapsed": true
   },
   "outputs": [],
   "source": [
    "def corrupt_images(X, percentage=25):\n",
    "    Xhat = X.copy()\n",
    "    n_pixels = int(X.shape[0]*percentage/100)\n",
    "    for i_example in range(X.shape[1]):\n",
    "        idx = np.random.permutation(X.shape[0])[:n_pixels]\n",
    "        Xhat[idx, i_example] = 2 * np.random.randint(0, 2, n_pixels) - 1\n",
    "    return Xhat"
   ]
  },
  {
   "cell_type": "markdown",
   "metadata": {},
   "source": [
    "### Solution 7"
   ]
  },
  {
   "cell_type": "code",
   "execution_count": 85,
   "metadata": {},
   "outputs": [
    {
     "data": {
      "text/plain": [
       "<matplotlib.text.Text at 0x1fcad748>"
      ]
     },
     "execution_count": 85,
     "metadata": {},
     "output_type": "execute_result"
    },
    {
     "data": {
      "image/png": "[encoded data removed]",
      "text/plain": [
       "<matplotlib.figure.Figure at 0x14e5dcc0>"
      ]
     },
     "metadata": {},
     "output_type": "display_data"
    }
   ],
   "source": [
    "# Corrupt images\n",
    "Xhat = corrupt_images(X,10)\n",
    "\n",
    "# Test associative memory properties\n",
    "Xnew = hopfield_test(Xhat,w)\n",
    "\n",
    "# Plot results\n",
    "fig, ax = plt.subplots(2, 3, figsize=(10, 5))\n",
    "\n",
    "ax[0][0].imshow(X[:, 0].reshape(sz), cmap=\"gray\")\n",
    "ax[0][0].set_xticks([], [])\n",
    "ax[0][0].set_yticks([], [])\n",
    "ax[0][0].set_title(\"x1 original\")\n",
    "\n",
    "ax[0][1].imshow(Xhat[:, 0].reshape(sz), cmap=\"gray\")\n",
    "ax[0][1].set_xticks([], [])\n",
    "ax[0][1].set_yticks([], [])\n",
    "ax[0][1].set_title(\"x1 corrupted\")\n",
    "\n",
    "ax[0][2].imshow(Xnew[:, 0].reshape(sz), cmap=\"gray\")\n",
    "ax[0][2].set_xticks([], [])\n",
    "ax[0][2].set_yticks([], [])\n",
    "ax[0][2].set_title(\"x1 reconstructed\")\n",
    "\n",
    "ax[1][0].imshow(X[:, 1].reshape(sz), cmap=\"gray\")\n",
    "ax[1][0].set_xticks([], [])\n",
    "ax[1][0].set_yticks([], [])\n",
    "ax[1][0].set_title(\"x2 original\")\n",
    "\n",
    "ax[1][1].imshow(Xhat[:, 1].reshape(sz), cmap=\"gray\")\n",
    "ax[1][1].set_xticks([], [])\n",
    "ax[1][1].set_yticks([], [])\n",
    "ax[1][1].set_title(\"x2 corrupted\")\n",
    "\n",
    "ax[1][2].imshow(Xnew[:, 1].reshape(sz), cmap=\"gray\")\n",
    "ax[1][2].set_xticks([], [])\n",
    "ax[1][2].set_yticks([], [])\n",
    "ax[1][2].set_title(\"x2 reconstructed\")\n",
    "\n",
    "\n"
   ]
  },
  {
   "cell_type": "markdown",
   "metadata": {},
   "source": [
    "Instead of only black and white values we see grey as well. The reconstructed images are nearly if not entirely equal to each other's mirror image. The reconstruction seems to be a superimposition of the two original images where the matching original image (x2 original for x2 reconstructed) has the \"upper hand\" so to speak."
   ]
  },
  {
   "cell_type": "code",
   "execution_count": 70,
   "metadata": {},
   "outputs": [
    {
     "data": {
      "text/plain": [
       "<matplotlib.text.Text at 0x185529e8>"
      ]
     },
     "execution_count": 70,
     "metadata": {},
     "output_type": "execute_result"
    },
    {
     "data": {
      "image/png": "[encoded data removed]",
      "text/plain": [
       "<matplotlib.figure.Figure at 0x130377b8>"
      ]
     },
     "metadata": {},
     "output_type": "display_data"
    }
   ],
   "source": [
    "# # Corrupt images\n",
    "Xhat = corrupt_images(X,25)\n",
    "# # Test associative memory properties\n",
    "Xnew = hopfield_test(Xhat,w)\n",
    "\n",
    "# Plot results\n",
    "fig, ax = plt.subplots(2, 3, figsize=(10, 5))\n",
    "\n",
    "ax[0][0].imshow(X[:, 0].reshape(sz), cmap=\"gray\")\n",
    "ax[0][0].set_xticks([], [])\n",
    "ax[0][0].set_yticks([], [])\n",
    "ax[0][0].set_title(\"x1 original\")\n",
    "\n",
    "ax[0][1].imshow(Xhat[:, 0].reshape(sz), cmap=\"gray\")\n",
    "ax[0][1].set_xticks([], [])\n",
    "ax[0][1].set_yticks([], [])\n",
    "ax[0][1].set_title(\"x1 corrupted\")\n",
    "\n",
    "ax[0][2].imshow(Xnew[:, 0].reshape(sz), cmap=\"gray\")\n",
    "ax[0][2].set_xticks([], [])\n",
    "ax[0][2].set_yticks([], [])\n",
    "ax[0][2].set_title(\"x1 reconstructed\")\n",
    "\n",
    "ax[1][0].imshow(X[:, 1].reshape(sz), cmap=\"gray\")\n",
    "ax[1][0].set_xticks([], [])\n",
    "ax[1][0].set_yticks([], [])\n",
    "ax[1][0].set_title(\"x2 original\")\n",
    "\n",
    "ax[1][1].imshow(Xhat[:, 1].reshape(sz), cmap=\"gray\")\n",
    "ax[1][1].set_xticks([], [])\n",
    "ax[1][1].set_yticks([], [])\n",
    "ax[1][1].set_title(\"x2 corrupted\")\n",
    "\n",
    "ax[1][2].imshow(Xnew[:, 1].reshape(sz), cmap=\"gray\")\n",
    "ax[1][2].set_xticks([], [])\n",
    "ax[1][2].set_yticks([], [])\n",
    "ax[1][2].set_title(\"x2 reconstructed\")"
   ]
  },
  {
   "cell_type": "markdown",
   "metadata": {
    "collapsed": true
   },
   "source": [
    "There is more corruption here yet the reconstructions seem identical to the ones where the corruption was lower (see above)."
   ]
  },
  {
   "cell_type": "code",
   "execution_count": 84,
   "metadata": {},
   "outputs": [
    {
     "data": {
      "text/plain": [
       "<matplotlib.text.Text at 0x1f5b3cf8>"
      ]
     },
     "execution_count": 84,
     "metadata": {},
     "output_type": "execute_result"
    },
    {
     "data": {
      "image/png": "[encoded data removed]",
      "text/plain": [
       "<matplotlib.figure.Figure at 0x1704a048>"
      ]
     },
     "metadata": {},
     "output_type": "display_data"
    }
   ],
   "source": [
    "# # Corrupt images\n",
    "Xhat = corrupt_images(X,50)\n",
    "# # Test associative memory properties\n",
    "Xnew = hopfield_test(Xhat,w)\n",
    "\n",
    "# Plot results\n",
    "fig, ax = plt.subplots(2, 3, figsize=(10, 5))\n",
    "\n",
    "ax[0][0].imshow(X[:, 0].reshape(sz), cmap=\"gray\")\n",
    "ax[0][0].set_xticks([], [])\n",
    "ax[0][0].set_yticks([], [])\n",
    "ax[0][0].set_title(\"x1 original\")\n",
    "\n",
    "ax[0][1].imshow(Xhat[:, 0].reshape(sz), cmap=\"gray\")\n",
    "ax[0][1].set_xticks([], [])\n",
    "ax[0][1].set_yticks([], [])\n",
    "ax[0][1].set_title(\"x1 corrupted\")\n",
    "\n",
    "ax[0][2].imshow(Xnew[:, 0].reshape(sz), cmap=\"gray\")\n",
    "ax[0][2].set_xticks([], [])\n",
    "ax[0][2].set_yticks([], [])\n",
    "ax[0][2].set_title(\"x1 reconstructed\")\n",
    "\n",
    "ax[1][0].imshow(X[:, 1].reshape(sz), cmap=\"gray\")\n",
    "ax[1][0].set_xticks([], [])\n",
    "ax[1][0].set_yticks([], [])\n",
    "ax[1][0].set_title(\"x2 original\")\n",
    "\n",
    "ax[1][1].imshow(Xhat[:, 1].reshape(sz), cmap=\"gray\")\n",
    "ax[1][1].set_xticks([], [])\n",
    "ax[1][1].set_yticks([], [])\n",
    "ax[1][1].set_title(\"x2 corrupted\")\n",
    "\n",
    "ax[1][2].imshow(Xnew[:, 1].reshape(sz), cmap=\"gray\")\n",
    "ax[1][2].set_xticks([], [])\n",
    "ax[1][2].set_yticks([], [])\n",
    "ax[1][2].set_title(\"x2 reconstructed\")"
   ]
  },
  {
   "cell_type": "markdown",
   "metadata": {
    "collapsed": true
   },
   "source": [
    "There is even more corruption than before here yet the reconstructions seem identical to the ones where the corruption was lower (see above)"
   ]
  },
  {
   "cell_type": "code",
   "execution_count": 82,
   "metadata": {},
   "outputs": [
    {
     "data": {
      "text/plain": [
       "<matplotlib.text.Text at 0x1dece860>"
      ]
     },
     "execution_count": 82,
     "metadata": {},
     "output_type": "execute_result"
    },
    {
     "data": {
      "image/png": "[encoded data removed]",
      "text/plain": [
       "<matplotlib.figure.Figure at 0x12ca7198>"
      ]
     },
     "metadata": {},
     "output_type": "display_data"
    }
   ],
   "source": [
    "# # Corrupt images\n",
    "Xhat = corrupt_images(X,100)\n",
    "# # Test associative memory properties\n",
    "Xnew = hopfield_test(Xhat,w)\n",
    "\n",
    "# Plot results\n",
    "fig, ax = plt.subplots(2, 3, figsize=(10, 5))\n",
    "\n",
    "ax[0][0].imshow(X[:, 0].reshape(sz), cmap=\"gray\")\n",
    "ax[0][0].set_xticks([], [])\n",
    "ax[0][0].set_yticks([], [])\n",
    "ax[0][0].set_title(\"x1 original\")\n",
    "\n",
    "ax[0][1].imshow(Xhat[:, 0].reshape(sz), cmap=\"gray\")\n",
    "ax[0][1].set_xticks([], [])\n",
    "ax[0][1].set_yticks([], [])\n",
    "ax[0][1].set_title(\"x1 corrupted\")\n",
    "\n",
    "ax[0][2].imshow(Xnew[:, 0].reshape(sz), cmap=\"gray\")\n",
    "ax[0][2].set_xticks([], [])\n",
    "ax[0][2].set_yticks([], [])\n",
    "ax[0][2].set_title(\"x1 reconstructed\")\n",
    "\n",
    "ax[1][0].imshow(X[:, 1].reshape(sz), cmap=\"gray\")\n",
    "ax[1][0].set_xticks([], [])\n",
    "ax[1][0].set_yticks([], [])\n",
    "ax[1][0].set_title(\"x2 original\")\n",
    "\n",
    "ax[1][1].imshow(Xhat[:, 1].reshape(sz), cmap=\"gray\")\n",
    "ax[1][1].set_xticks([], [])\n",
    "ax[1][1].set_yticks([], [])\n",
    "ax[1][1].set_title(\"x2 corrupted\")\n",
    "\n",
    "ax[1][2].imshow(Xnew[:, 1].reshape(sz), cmap=\"gray\")\n",
    "ax[1][2].set_xticks([], [])\n",
    "ax[1][2].set_yticks([], [])\n",
    "ax[1][2].set_title(\"x2 reconstructed\")"
   ]
  },
  {
   "cell_type": "markdown",
   "metadata": {
    "collapsed": true
   },
   "source": [
    "With extreme corruption the reconstructions are finally not each other's mirror image. Each iteration sees completely different reconstructions. Sometimes it seems like the reconstructions are both original images superimposed on each other with the colours inversed. Other times its just the mirror image of its original with its colours reversed or just the superimposition of the images without the colours reversed. Or a superimposition where one image does have inversed colours and the other doesn't. Very rarely, the reconstruction is a perfect match with the original image."
   ]
  },
  {
   "cell_type": "code",
   "execution_count": null,
   "metadata": {
    "collapsed": true
   },
   "outputs": [],
   "source": []
  }
 ],
 "metadata": {
  "anaconda-cloud": {},
  "kernelspec": {
   "display_name": "Python 2",
   "language": "python",
   "name": "python2"
  },
  "language_info": {
   "codemirror_mode": {
    "name": "ipython",
    "version": 2
   },
   "file_extension": ".py",
   "mimetype": "text/x-python",
   "name": "python",
   "nbconvert_exporter": "python",
   "pygments_lexer": "ipython2",
   "version": "2.7.13"
  }
 },
 "nbformat": 4,
 "nbformat_minor": 1
}
